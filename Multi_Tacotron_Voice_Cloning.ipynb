{
  "cells": [
    {
      "cell_type": "markdown",
      "metadata": {
        "colab_type": "text",
        "id": "6yk3PMfBuZhS"
      },
      "source": [
        "Make sure GPU is enabled\n",
        "Runtime -> Change Runtime Type -> Hardware Accelerator -> GPU"
      ]
    },
    {
      "cell_type": "code",
      "execution_count": null,
      "metadata": {
        "colab": {},
        "colab_type": "code",
        "id": "JlHlyIk9MLtR"
      },
      "outputs": [],
      "source": [
        "%tensorflow_version 2.x\n",
        "!pip uninstall -y tensorflow\n",
        "!pip install tensorflow-gpu==1.14.0"
      ]
    },
    {
      "cell_type": "code",
      "execution_count": null,
      "metadata": {
        "colab": {},
        "colab_type": "code",
        "id": "qhunyJSod_UT"
      },
      "outputs": [],
      "source": [
        "!git clone https://github.com/vlomme/Multi-Tacotron-Voice-Cloning.git"
      ]
    },
    {
      "cell_type": "code",
      "execution_count": null,
      "metadata": {
        "colab": {},
        "colab_type": "code",
        "id": "pE6btDZWeFV0"
      },
      "outputs": [],
      "source": [
        "cd Multi-Tacotron-Voice-Cloning/"
      ]
    },
    {
      "cell_type": "code",
      "execution_count": null,
      "metadata": {
        "colab": {},
        "colab_type": "code",
        "id": "0AVd9vLKeKm6"
      },
      "outputs": [],
      "source": [
        "!pip install -r requirements.txt"
      ]
    },
    {
      "cell_type": "code",
      "execution_count": null,
      "metadata": {
        "colab": {},
        "colab_type": "code",
        "id": "2920fqapzRoz"
      },
      "outputs": [],
      "source": [
        "!apt-get install libportaudio2"
      ]
    },
    {
      "cell_type": "code",
      "execution_count": null,
      "metadata": {
        "colab": {},
        "colab_type": "code",
        "id": "VuwgOQlPeN8a"
      },
      "outputs": [],
      "source": [
        "!gdown https://drive.google.com/uc?id=1aQBmpflbX_ePUdXTSNE4CfEL9hdG2-O8"
      ]
    },
    {
      "cell_type": "code",
      "execution_count": null,
      "metadata": {
        "colab": {},
        "colab_type": "code",
        "id": "vKLpYfRkfyjX"
      },
      "outputs": [],
      "source": [
        "!unzip pretrained.zip"
      ]
    },
    {
      "cell_type": "code",
      "execution_count": null,
      "metadata": {
        "colab": {},
        "colab_type": "code",
        "id": "YOiGYfpAf2qR"
      },
      "outputs": [],
      "source": [
        "!python demo_cli.py -p \"ex.wav\" -t \"Hello my friends. Я многоязычный синтез построенный на tacotron. Шла саша по шоссе и сосала сушку\" --no_sound"
      ]
    },
    {
      "cell_type": "code",
      "execution_count": null,
      "metadata": {
        "colab": {},
        "colab_type": "code",
        "id": "PyLdbUfks2lv"
      },
      "outputs": [],
      "source": [
        "import IPython.display as ipd\n",
        "print(\"original(оригинал)\")\n",
        "ipd.display(ipd.Audio('ex.wav'))#filepath to original voices (Путь до оригинального файла)\n",
        "print(\"cloned(клонированный)\")\n",
        "ipd.display(ipd.Audio('demo_output_00.wav'))#filepath to synthesized voices (Путь до синтезированного файла)"
      ]
    }
  ],
  "metadata": {
    "accelerator": "GPU",
    "colab": {
      "collapsed_sections": [],
      "name": "Multi-Tacotron-Voice-Cloning.ipynb",
      "provenance": []
    },
    "kernelspec": {
      "display_name": "Python 3.7.3 64-bit",
      "language": "python",
      "name": "python3"
    },
    "language_info": {
      "name": "python",
      "version": "3.7.3"
    },
    "vscode": {
      "interpreter": {
        "hash": "cdec132a53600ff4135a6c74115789a5cba98f3ffcc0edef7b1cb7fd654a228d"
      }
    }
  },
  "nbformat": 4,
  "nbformat_minor": 0
}
